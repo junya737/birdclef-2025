{
 "cells": [
  {
   "cell_type": "code",
   "execution_count": 1,
   "metadata": {},
   "outputs": [],
   "source": [
    "import os\n",
    "import gc\n",
    "import warnings\n",
    "import logging\n",
    "import time\n",
    "import math\n",
    "import cv2\n",
    "from pathlib import Path\n",
    "\n",
    "import numpy as np\n",
    "import pandas as pd\n",
    "import librosa\n",
    "import torch\n",
    "import torch.nn as nn\n",
    "import torch.nn.functional as F\n",
    "import timm\n",
    "from tqdm.auto import tqdm\n",
    "\n",
    "\n",
    "logging.basicConfig(level=logging.ERROR)"
   ]
  },
  {
   "cell_type": "code",
   "execution_count": null,
   "metadata": {},
   "outputs": [],
   "source": [
    "class CFG:\n",
    "    KAGGLE_NOTEBOOK = False\n",
    "\n",
    "    if KAGGLE_NOTEBOOK:\n",
    "        test_soundscapes = '/kaggle/input/birdclef-2025/test_soundscapes'\n",
    "        submission_csv = '/kaggle/input/birdclef-2025/sample_submission.csv'\n",
    "        taxonomy_csv = '/kaggle/input/birdclef-2025/taxonomy.csv'\n",
    "        model_path = '/kaggle/input/birdclef25-effnetb0-starter-weight'  \n",
    "    else:\n",
    "        test_soundscapes = '../data/raw/test_soundscapes/'\n",
    "        submission_csv = '../data/raw/sample_submission.csv'\n",
    "        taxonomy_csv = '../data/raw/taxonomy.csv'\n",
    "        MODEL_DIR = \"../models/\"\n",
    "        model_path = MODEL_DIR + \"/model_fold0.pth\"\n",
    "\n",
    "    # Audio parameters\n",
    "    FS = 32000  \n",
    "    WINDOW_SIZE = 5  \n",
    "    \n",
    "    # Mel spectrogram parameters\n",
    "    N_FFT = 1024\n",
    "    HOP_LENGTH = 512\n",
    "    N_MELS = 128\n",
    "    FMIN = 50\n",
    "    FMAX = 14000\n",
    "    TARGET_SHAPE = (256, 256)\n",
    "    \n",
    "    model_name = 'efficientnet_b0'\n",
    "    in_channels = 1\n",
    "    device = 'cpu'  \n",
    "    \n",
    "    # Inference parameters\n",
    "    batch_size = 16\n",
    "    use_tta = False  \n",
    "    tta_count = 3   \n",
    "    threshold = 0.5\n",
    "    \n",
    "    use_specific_folds = False  # If False, use all found models\n",
    "    folds = [0, 1]  # Used only if use_specific_folds is True\n",
    "    \n",
    "    debug = False\n",
    "    debug_count = 3\n",
    "\n",
    "cfg = CFG()"
   ]
  },
  {
   "cell_type": "code",
   "execution_count": null,
   "metadata": {},
   "outputs": [],
   "source": []
  }
 ],
 "metadata": {
  "kernelspec": {
   "display_name": "base",
   "language": "python",
   "name": "python3"
  },
  "language_info": {
   "codemirror_mode": {
    "name": "ipython",
    "version": 3
   },
   "file_extension": ".py",
   "mimetype": "text/x-python",
   "name": "python",
   "nbconvert_exporter": "python",
   "pygments_lexer": "ipython3",
   "version": "3.10.13"
  }
 },
 "nbformat": 4,
 "nbformat_minor": 2
}
