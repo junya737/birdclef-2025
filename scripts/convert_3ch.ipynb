{
 "cells": [
  {
   "cell_type": "code",
   "execution_count": null,
   "metadata": {},
   "outputs": [
    {
     "name": "stdout",
     "output_type": "stream",
     "text": [
      "📥 Loading: ../data/processed/mel_cleaned_0419/birdclef2025_melspec_5sec_256_256.npy\n"
     ]
    },
    {
     "name": "stderr",
     "output_type": "stream",
     "text": [
      "🔄 Converting: 100%|██████████| 28564/28564 [00:25<00:00, 1124.91it/s]\n"
     ]
    },
    {
     "name": "stdout",
     "output_type": "stream",
     "text": [
      "✅ Saved 3ch ImageNet-normalized melspec to: ../data/processed/mel_cleaned_0419/birdclef2025_melspec_5sec_256_256_3ch_imagenet.npy\n"
     ]
    }
   ],
   "source": [
    "import os\n",
    "import numpy as np\n",
    "import pickle\n",
    "from tqdm import tqdm\n",
    "\n",
    "# === 入出力パス（適宜書き換えてください） ===\n",
    "input_path = \"../data/processed/mel_cleaned_0419/birdclef2025_melspec_5sec_256_256.npy\"\n",
    "output_path = \"../data/processed/mel_cleaned_0419/birdclef2025_melspec_5sec_256_256_3ch.npy\"\n",
    "\n",
    "# === ImageNetの平均・標準偏差 ===\n",
    "IMAGENET_MEAN = np.array([0.485, 0.456, 0.406]).reshape(3, 1, 1)\n",
    "IMAGENET_STD = np.array([0.229, 0.224, 0.225]).reshape(3, 1, 1)\n",
    "\n",
    "# === ロード（辞書形式）===\n",
    "print(f\"📥 Loading: {input_path}\")\n",
    "with open(input_path, \"rb\") as f:\n",
    "    original_dict = pickle.load(f).item()\n",
    "\n",
    "# === 3ch化 + ImageNet正規化 ===\n",
    "converted_dict = {}\n",
    "for key, mel in tqdm(original_dict.items(), desc=\"🔄 Converting\"):\n",
    "    mel = mel[np.newaxis, :, :]               # (1, H, W)\n",
    "    mel_3ch = np.repeat(mel, 3, axis=0)       # (3, H, W)\n",
    "    mel_norm = (mel_3ch - IMAGENET_MEAN) / IMAGENET_STD\n",
    "    converted_dict[key] = mel_norm.astype(np.float32)\n",
    "\n",
    "# === dict を object 型 numpy array に包む（元形式に合わせる）===\n",
    "wrapped_array = np.array(converted_dict, dtype=object)\n",
    "\n",
    "# === 保存 ===\n",
    "with open(output_path, \"wb\") as f:\n",
    "    pickle.dump(wrapped_array, f, protocol=5)\n",
    "\n",
    "print(f\"✅ Saved 3ch ImageNet-normalized melspec to: {output_path}\")"
   ]
  },
  {
   "cell_type": "code",
   "execution_count": null,
   "metadata": {},
   "outputs": [],
   "source": []
  }
 ],
 "metadata": {
  "kaggle": {
   "accelerator": "none",
   "dataSources": [
    {
     "databundleVersionId": 11361821,
     "sourceId": 91844,
     "sourceType": "competition"
    }
   ],
   "dockerImageVersionId": 30918,
   "isGpuEnabled": false,
   "isInternetEnabled": true,
   "language": "python",
   "sourceType": "notebook"
  },
  "kernelspec": {
   "display_name": "Python 3",
   "language": "python",
   "name": "python3"
  },
  "language_info": {
   "codemirror_mode": {
    "name": "ipython",
    "version": 3
   },
   "file_extension": ".py",
   "mimetype": "text/x-python",
   "name": "python",
   "nbconvert_exporter": "python",
   "pygments_lexer": "ipython3",
   "version": "3.10.13"
  }
 },
 "nbformat": 4,
 "nbformat_minor": 4
}
