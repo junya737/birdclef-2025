{
 "cells": [
  {
   "cell_type": "code",
   "execution_count": 1,
   "id": "ff7e93d3",
   "metadata": {},
   "outputs": [
    {
     "name": "stdout",
     "output_type": "stream",
     "text": [
      "キーセットは一致しています。\n"
     ]
    },
    {
     "name": "stderr",
     "output_type": "stream",
     "text": [
      "Checking sampled keys:   0%|          | 0/10 [00:00<?, ?it/s]"
     ]
    },
    {
     "name": "stdout",
     "output_type": "stream",
     "text": [
      "キー greegr-XC764651 の index 31747 で値が違います: 0.34115123748779297 vs 0.34604448080062866\n",
      "一部サンプリング比較で不一致が見つかりました。\n"
     ]
    },
    {
     "name": "stderr",
     "output_type": "stream",
     "text": [
      "\n"
     ]
    }
   ],
   "source": [
    "import numpy as np\n",
    "import random\n",
    "from tqdm import tqdm\n",
    "\n",
    "# ファイルを読み込む\n",
    "file1 = '../data/processed/melspec_20250511_1415/birdclef2025_melspec_5sec_256_256.npy'\n",
    "file2 = '../data/processed/melspec_maxRMS/birdclef2025_melspec_5sec_256_256.npy'\n",
    "\n",
    "dict1 = np.load(file1, allow_pickle=True).item()\n",
    "dict2 = np.load(file2, allow_pickle=True).item()\n",
    "\n",
    "# キーリストを取得\n",
    "keys1 = set(dict1.keys())\n",
    "keys2 = set(dict2.keys())\n",
    "\n",
    "# キーセットの比較\n",
    "if keys1 != keys2:\n",
    "    print(\"キーセットが一致しません。\")\n",
    "else:\n",
    "    print(\"キーセットは一致しています。\")\n",
    "\n",
    "    keys = list(keys1)\n",
    "    num_keys_to_check = 10  # チェックするキーの数\n",
    "    num_elements_to_check_per_key = 1  # 各キー内でチェックする要素の数\n",
    "\n",
    "    if len(keys) <= num_keys_to_check:\n",
    "        sampled_keys = keys\n",
    "    else:\n",
    "        sampled_keys = random.sample(keys, num_keys_to_check)\n",
    "\n",
    "    all_match = True\n",
    "\n",
    "    for key in tqdm(sampled_keys, desc=\"Checking sampled keys\"):\n",
    "        arr1 = dict1[key]\n",
    "        arr2 = dict2[key]\n",
    "\n",
    "        if arr1.shape != arr2.shape:\n",
    "            print(f\"キー {key} の shape が違います: {arr1.shape} vs {arr2.shape}\")\n",
    "            all_match = False\n",
    "            break\n",
    "\n",
    "        flat1 = arr1.flatten()\n",
    "        flat2 = arr2.flatten()\n",
    "\n",
    "        if len(flat1) <= num_elements_to_check_per_key:\n",
    "            indices = range(len(flat1))\n",
    "        else:\n",
    "            indices = random.sample(range(len(flat1)), num_elements_to_check_per_key)\n",
    "\n",
    "        for idx in indices:\n",
    "            if not np.isclose(flat1[idx], flat2[idx], atol=1e-5):\n",
    "                print(f\"キー {key} の index {idx} で値が違います: {flat1[idx]} vs {flat2[idx]}\")\n",
    "                all_match = False\n",
    "                break\n",
    "\n",
    "        if not all_match:\n",
    "            break\n",
    "\n",
    "    if all_match:\n",
    "        print(\"一部サンプリング比較では一致しました！\")\n",
    "    else:\n",
    "        print(\"一部サンプリング比較で不一致が見つかりました。\")"
   ]
  },
  {
   "cell_type": "code",
   "execution_count": null,
   "id": "a523943e",
   "metadata": {},
   "outputs": [],
   "source": []
  }
 ],
 "metadata": {
  "kernelspec": {
   "display_name": "kaggle",
   "language": "python",
   "name": "python3"
  },
  "language_info": {
   "codemirror_mode": {
    "name": "ipython",
    "version": 3
   },
   "file_extension": ".py",
   "mimetype": "text/x-python",
   "name": "python",
   "nbconvert_exporter": "python",
   "pygments_lexer": "ipython3",
   "version": "3.10.13"
  }
 },
 "nbformat": 4,
 "nbformat_minor": 5
}
