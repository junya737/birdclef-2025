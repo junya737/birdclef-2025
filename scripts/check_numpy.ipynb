{
 "cells": [
  {
   "cell_type": "code",
   "execution_count": 2,
   "id": "ff7e93d3",
   "metadata": {},
   "outputs": [
    {
     "name": "stdout",
     "output_type": "stream",
     "text": [
      "キーセットは一致しています。比較を続行します。\n"
     ]
    },
    {
     "name": "stderr",
     "output_type": "stream",
     "text": [
      "Comparing mel spectrograms: 100%|██████████| 10/10 [00:00<00:00, 17218.00it/s]\n"
     ]
    },
    {
     "name": "stdout",
     "output_type": "stream",
     "text": [
      "チェックした総数: 100\n",
      "違っていた数: 67\n",
      "違っていた割合: 67.00%\n",
      "平均絶対差 (MAE): 0.01782848\n",
      "最大差: 0.12647223\n",
      "比較処理が終了し、メモリも完全に解放されました。\n"
     ]
    }
   ],
   "source": [
    "import numpy as np\n",
    "import gc\n",
    "from multiprocessing import Process\n",
    "from tqdm import tqdm\n",
    "\n",
    "def compare_files(file1, file2, num_keys_to_check=10, num_values_to_check=10):\n",
    "    dict1 = np.load(file1, allow_pickle=True).item()\n",
    "    keys1 = list(dict1.keys())\n",
    "    dict1_small = {k: dict1[k].copy() for k in keys1[:num_keys_to_check]}\n",
    "    del dict1\n",
    "    gc.collect()\n",
    "\n",
    "    dict2 = np.load(file2, allow_pickle=True).item()\n",
    "    keys2 = list(dict2.keys())\n",
    "    dict2_small = {k: dict2[k].copy() for k in keys2[:num_keys_to_check]}\n",
    "    del dict2\n",
    "    gc.collect()\n",
    "\n",
    "    if keys1 != keys2:\n",
    "        print(\"キーセットが一致しません。比較を中止します。\")\n",
    "    else:\n",
    "        print(\"キーセットは一致しています。比較を続行します。\")\n",
    "\n",
    "        total_checked = 0\n",
    "        total_different = 0\n",
    "        differences = []\n",
    "\n",
    "        for key in tqdm(dict1_small.keys(), desc=\"Comparing mel spectrograms\"):\n",
    "            arr1 = dict1_small[key]\n",
    "            arr2 = dict2_small[key]\n",
    "\n",
    "            if arr1.shape != arr2.shape:\n",
    "                print(f\"キー {key} の shape が違います: {arr1.shape} vs {arr2.shape}\")\n",
    "                continue\n",
    "\n",
    "            flat1 = arr1.flatten()\n",
    "            flat2 = arr2.flatten()\n",
    "            n_to_check = min(num_values_to_check, len(flat1))\n",
    "\n",
    "            for idx in range(n_to_check):\n",
    "                diff = abs(flat1[idx] - flat2[idx])\n",
    "                differences.append(diff)\n",
    "                total_checked += 1\n",
    "                if diff > 1e-5:\n",
    "                    total_different += 1\n",
    "\n",
    "        if total_checked > 0:\n",
    "            print(f\"チェックした総数: {total_checked}\")\n",
    "            print(f\"違っていた数: {total_different}\")\n",
    "            print(f\"違っていた割合: {100 * total_different / total_checked:.2f}%\")\n",
    "            print(f\"平均絶対差 (MAE): {np.mean(differences):.8f}\")\n",
    "            print(f\"最大差: {np.max(differences):.8f}\")\n",
    "        else:\n",
    "            print(\"チェックできるデータがありませんでした。\")\n",
    "\n",
    "    del dict1_small\n",
    "    del dict2_small\n",
    "    gc.collect()\n",
    "\n",
    "if __name__ == \"__main__\":\n",
    "    file1 = '../data/processed/melspec_20250511_1805/birdclef2025_melspec_5sec_256_256.npy'\n",
    "    file2 = '../data/processed/melspec_maxRMS/birdclef2025_melspec_5sec_256_256.npy'\n",
    "\n",
    "    # サブプロセスで比較処理を実行\n",
    "    p = Process(target=compare_files, args=(file1, file2))\n",
    "    p.start()\n",
    "    p.join()\n",
    "\n",
    "    print(\"比較処理が終了し、メモリも完全に解放されました。\")"
   ]
  },
  {
   "cell_type": "code",
   "execution_count": null,
   "id": "2cf61b8d",
   "metadata": {},
   "outputs": [],
   "source": []
  }
 ],
 "metadata": {
  "kernelspec": {
   "display_name": "kaggle",
   "language": "python",
   "name": "python3"
  },
  "language_info": {
   "codemirror_mode": {
    "name": "ipython",
    "version": 3
   },
   "file_extension": ".py",
   "mimetype": "text/x-python",
   "name": "python",
   "nbconvert_exporter": "python",
   "pygments_lexer": "ipython3",
   "version": "3.10.13"
  }
 },
 "nbformat": 4,
 "nbformat_minor": 5
}
