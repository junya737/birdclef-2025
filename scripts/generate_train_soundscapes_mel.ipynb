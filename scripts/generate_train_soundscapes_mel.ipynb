{
 "cells": [
  {
   "cell_type": "code",
   "execution_count": 10,
   "metadata": {},
   "outputs": [],
   "source": [
    "import os\n",
    "import math\n",
    "import librosa\n",
    "import cv2\n",
    "import pandas as pd\n",
    "import numpy as np\n",
    "from tqdm import tqdm\n",
    "from pathlib import Path\n",
    "from datetime import datetime\n",
    "import pytz\n",
    "import pickle\n",
    "import csv\n",
    "from joblib import Parallel, delayed\n",
    "import warnings\n"
   ]
  },
  {
   "cell_type": "code",
   "execution_count": 11,
   "metadata": {},
   "outputs": [],
   "source": [
    "# ===== 設定クラス =====\n",
    "class DatasetConfig:\n",
    "    def __init__(self, debug=False):\n",
    "        self.debug = debug\n",
    "\n",
    "        self.RAW_DIR = '../data/raw/'\n",
    "        self.PROCESSED_DIR = '../data/processed/'\n",
    "\n",
    "        # Audio Settings\n",
    "        self.FS = 32000\n",
    "        self.WINDOW_SIZE = 5.0  # seconds\n",
    "        self.TARGET_SHAPE = (256, 256)\n",
    "        self.N_FFT = 1024\n",
    "        self.HOP_LENGTH = 512\n",
    "        self.N_MELS = 128\n",
    "        self.FMIN = 50\n",
    "        self.FMAX = 14000\n",
    "        self.N_MAX_FILES = 5 if self.debug else None\n",
    "        self.N_JOBS = 16\n",
    "\n",
    "        self.seed = 42\n",
    "\n",
    "config = DatasetConfig(debug=False)\n",
    "np.random.seed(config.seed)"
   ]
  },
  {
   "cell_type": "code",
   "execution_count": 12,
   "metadata": {},
   "outputs": [],
   "source": [
    "# ===== Mel変換関数 =====\n",
    "def audio_to_melspec(y, config):\n",
    "    mel = librosa.feature.melspectrogram(\n",
    "        y=y,\n",
    "        sr=config.FS,\n",
    "        n_fft=config.N_FFT,\n",
    "        hop_length=config.HOP_LENGTH,\n",
    "        n_mels=config.N_MELS,\n",
    "        fmin=config.FMIN,\n",
    "        fmax=config.FMAX,\n",
    "        power=2.0\n",
    "    )\n",
    "    mel_db = librosa.power_to_db(mel, ref=np.max)\n",
    "    mel_norm = (mel_db - mel_db.min()) / (mel_db.max() - mel_db.min() + 1e-6)\n",
    "    mel_norm = np.clip(mel_norm, 0, 1)\n",
    "    return mel_norm\n",
    "\n",
    "# ===== 1ファイルを5秒ごとに分割して処理 =====\n",
    "def process_soundscape_file(filepath):\n",
    "    try:\n",
    "        y, _ = librosa.load(filepath, sr=config.FS)\n",
    "        total_secs = int(len(y) / config.FS)\n",
    "        result = []\n",
    "\n",
    "        for start_sec in range(0, total_secs, 5):\n",
    "            if start_sec + 5 > total_secs:\n",
    "                continue\n",
    "            start = start_sec * config.FS\n",
    "            end = start + int(config.WINDOW_SIZE * config.FS)\n",
    "            y_seg = y[start:end]\n",
    "\n",
    "            if len(y_seg) < end - start:\n",
    "                y_seg = np.pad(y_seg, (0, end - len(y_seg)), mode=\"constant\")\n",
    "\n",
    "            mel = audio_to_melspec(y_seg, config)\n",
    "            if mel.shape != config.TARGET_SHAPE:\n",
    "                mel = cv2.resize(mel, config.TARGET_SHAPE[::-1])\n",
    "\n",
    "            filename = Path(filepath).stem\n",
    "            row_id = f\"{filename}_{start_sec + 5}\"\n",
    "            result.append((row_id, mel.astype(np.float32), None))\n",
    "\n",
    "        return result\n",
    "    except Exception as e:\n",
    "        return [(None, None, (str(filepath), str(e)))]"
   ]
  },
  {
   "cell_type": "code",
   "execution_count": 13,
   "metadata": {},
   "outputs": [
    {
     "name": "stdout",
     "output_type": "stream",
     "text": [
      "🔍 Loading soundscape files...\n",
      "🗂 Found 9726 files\n",
      "🎧 Generating Mel spectrograms...\n"
     ]
    },
    {
     "name": "stderr",
     "output_type": "stream",
     "text": [
      "100%|██████████| 9726/9726 [01:31<00:00, 106.50it/s]\n"
     ]
    }
   ],
   "source": [
    "print(\"🔍 Loading soundscape files...\")\n",
    "files = sorted(Path(config.RAW_DIR + '/train_soundscapes').glob(\"*.ogg\"))\n",
    "if config.N_MAX_FILES:\n",
    "    files = files[:config.N_MAX_FILES]\n",
    "print(f\"🗂 Found {len(files)} files\")\n",
    "\n",
    "print(\"🎧 Generating Mel spectrograms...\")\n",
    "results_nested = Parallel(n_jobs=config.N_JOBS)(\n",
    "    delayed(process_soundscape_file)(f) for f in tqdm(files)\n",
    ")\n",
    "\n",
    "results = [item for sublist in results_nested for item in sublist]\n",
    "mel_dict = {row_id: mel for row_id, mel, err in results if row_id is not None}\n",
    "errors = [err for _, _, err in results if err is not None]\n",
    "\n"
   ]
  },
  {
   "cell_type": "code",
   "execution_count": 14,
   "metadata": {},
   "outputs": [
    {
     "name": "stdout",
     "output_type": "stream",
     "text": [
      "\n",
      "✅ Mel-spectrograms saved to: ../data/processed/melspec_train_soundscapes_20250407_1536/train_soundscapes_melspecs.npy\n",
      "📦 File size: 29188.80 MB\n",
      "📐 Example shape: (256, 256)\n",
      "📝 Config saved to: ../data/processed/melspec_train_soundscapes_20250407_1536/config.csv\n"
     ]
    }
   ],
   "source": [
    "# 保存先ディレクトリを作成\n",
    "jst = pytz.timezone('Asia/Tokyo')\n",
    "now = datetime.now(jst)\n",
    "timestamp = now.strftime(\"%Y%m%d_%H%M\")\n",
    "output_dir = Path(config.PROCESSED_DIR) / f\"melspec_train_soundscapes_{timestamp}\"\n",
    "output_dir.mkdir(parents=True, exist_ok=True)\n",
    "\n",
    "# Mel保存\n",
    "melspec_path = output_dir / \"train_soundscapes_melspecs.npy\"\n",
    "with open(melspec_path, 'wb') as f:\n",
    "    pickle.dump(mel_dict, f, protocol=5)\n",
    "print(f\"\\n✅ Mel-spectrograms saved to: {melspec_path}\")\n",
    "print(f\"📦 File size: {os.path.getsize(melspec_path) / (1024 ** 2):.2f} MB\")\n",
    "print(f\"📐 Example shape: {next(iter(mel_dict.values())).shape}\")\n",
    "\n",
    "# Config保存\n",
    "config_path = output_dir / \"config.csv\"\n",
    "with open(config_path, 'w', newline='') as csvfile:\n",
    "    writer = csv.writer(csvfile)\n",
    "    writer.writerow([\"key\", \"value\"])\n",
    "    for k, v in vars(config).items():\n",
    "        writer.writerow([k, v])\n",
    "print(f\"📝 Config saved to: {config_path}\")\n",
    "\n",
    "# エラー表示\n",
    "if errors:\n",
    "    print(\"\\n⚠️ Some files failed to process:\")\n",
    "    for err in errors[:5]:\n",
    "        print(f\" - {err[0]}: {err[1]}\")"
   ]
  },
  {
   "cell_type": "code",
   "execution_count": null,
   "metadata": {},
   "outputs": [],
   "source": []
  },
  {
   "cell_type": "code",
   "execution_count": null,
   "metadata": {},
   "outputs": [],
   "source": []
  }
 ],
 "metadata": {
  "kernelspec": {
   "display_name": "Python 3",
   "language": "python",
   "name": "python3"
  },
  "language_info": {
   "codemirror_mode": {
    "name": "ipython",
    "version": 3
   },
   "file_extension": ".py",
   "mimetype": "text/x-python",
   "name": "python",
   "nbconvert_exporter": "python",
   "pygments_lexer": "ipython3",
   "version": "3.10.13"
  }
 },
 "nbformat": 4,
 "nbformat_minor": 2
}
